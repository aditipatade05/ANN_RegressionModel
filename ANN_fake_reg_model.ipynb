{
  "nbformat": 4,
  "nbformat_minor": 0,
  "metadata": {
    "colab": {
      "name": "ANN_fake_reg_model.ipynb",
      "provenance": []
    },
    "kernelspec": {
      "name": "python3",
      "display_name": "Python 3"
    },
    "language_info": {
      "name": "python"
    }
  },
  "cells": [
    {
      "cell_type": "code",
      "metadata": {
        "id": "T1xHXRpd4AgX"
      },
      "source": [
        "import numpy as np\n",
        "import pandas as pd\n",
        "import matplotlib.pyplot as plt\n",
        "import seaborn as sns\n",
        "\n",
        "import warnings \n",
        "warnings.filterwarnings('ignore')\n",
        "\n",
        "import tensorflow as tf\n",
        "from tensorflow.keras.layers import Dense\n",
        "from tensorflow.keras.models import Sequential"
      ],
      "execution_count": null,
      "outputs": []
    },
    {
      "cell_type": "code",
      "metadata": {
        "colab": {
          "base_uri": "https://localhost:8080/",
          "height": 204
        },
        "id": "LA1DNr0w4z-F",
        "outputId": "d1594771-bd09-42a0-c714-af4f2d0d3d67"
      },
      "source": [
        "df = pd.read_csv('fake_reg.csv')\n",
        "df.head()"
      ],
      "execution_count": null,
      "outputs": [
        {
          "output_type": "execute_result",
          "data": {
            "text/html": [
              "<div>\n",
              "<style scoped>\n",
              "    .dataframe tbody tr th:only-of-type {\n",
              "        vertical-align: middle;\n",
              "    }\n",
              "\n",
              "    .dataframe tbody tr th {\n",
              "        vertical-align: top;\n",
              "    }\n",
              "\n",
              "    .dataframe thead th {\n",
              "        text-align: right;\n",
              "    }\n",
              "</style>\n",
              "<table border=\"1\" class=\"dataframe\">\n",
              "  <thead>\n",
              "    <tr style=\"text-align: right;\">\n",
              "      <th></th>\n",
              "      <th>price</th>\n",
              "      <th>feature1</th>\n",
              "      <th>feature2</th>\n",
              "    </tr>\n",
              "  </thead>\n",
              "  <tbody>\n",
              "    <tr>\n",
              "      <th>0</th>\n",
              "      <td>461.527929</td>\n",
              "      <td>999.787558</td>\n",
              "      <td>999.766096</td>\n",
              "    </tr>\n",
              "    <tr>\n",
              "      <th>1</th>\n",
              "      <td>548.130011</td>\n",
              "      <td>998.861615</td>\n",
              "      <td>1001.042403</td>\n",
              "    </tr>\n",
              "    <tr>\n",
              "      <th>2</th>\n",
              "      <td>410.297162</td>\n",
              "      <td>1000.070267</td>\n",
              "      <td>998.844015</td>\n",
              "    </tr>\n",
              "    <tr>\n",
              "      <th>3</th>\n",
              "      <td>540.382220</td>\n",
              "      <td>999.952251</td>\n",
              "      <td>1000.440940</td>\n",
              "    </tr>\n",
              "    <tr>\n",
              "      <th>4</th>\n",
              "      <td>546.024553</td>\n",
              "      <td>1000.446011</td>\n",
              "      <td>1000.338531</td>\n",
              "    </tr>\n",
              "  </tbody>\n",
              "</table>\n",
              "</div>"
            ],
            "text/plain": [
              "        price     feature1     feature2\n",
              "0  461.527929   999.787558   999.766096\n",
              "1  548.130011   998.861615  1001.042403\n",
              "2  410.297162  1000.070267   998.844015\n",
              "3  540.382220   999.952251  1000.440940\n",
              "4  546.024553  1000.446011  1000.338531"
            ]
          },
          "metadata": {},
          "execution_count": 42
        }
      ]
    },
    {
      "cell_type": "code",
      "metadata": {
        "colab": {
          "base_uri": "https://localhost:8080/"
        },
        "id": "PyBbaJPe5C-c",
        "outputId": "cbba2ae5-45f8-4c9c-a3f5-092715a46cb3"
      },
      "source": [
        "df.info()"
      ],
      "execution_count": null,
      "outputs": [
        {
          "output_type": "stream",
          "name": "stdout",
          "text": [
            "<class 'pandas.core.frame.DataFrame'>\n",
            "RangeIndex: 1000 entries, 0 to 999\n",
            "Data columns (total 3 columns):\n",
            " #   Column    Non-Null Count  Dtype  \n",
            "---  ------    --------------  -----  \n",
            " 0   price     1000 non-null   float64\n",
            " 1   feature1  1000 non-null   float64\n",
            " 2   feature2  1000 non-null   float64\n",
            "dtypes: float64(3)\n",
            "memory usage: 23.6 KB\n"
          ]
        }
      ]
    },
    {
      "cell_type": "code",
      "metadata": {
        "colab": {
          "base_uri": "https://localhost:8080/"
        },
        "id": "Tp2d0Sfd8WGY",
        "outputId": "dcee008a-d196-4fe2-a49b-9915940c4242"
      },
      "source": [
        "df.isna().sum()"
      ],
      "execution_count": null,
      "outputs": [
        {
          "output_type": "execute_result",
          "data": {
            "text/plain": [
              "price       0\n",
              "feature1    0\n",
              "feature2    0\n",
              "dtype: int64"
            ]
          },
          "metadata": {},
          "execution_count": 44
        }
      ]
    },
    {
      "cell_type": "code",
      "metadata": {
        "colab": {
          "base_uri": "https://localhost:8080/",
          "height": 297
        },
        "id": "Jru3v1n48aaQ",
        "outputId": "35f276e3-28ae-42fc-b887-a70ef3e834a9"
      },
      "source": [
        "df.describe()"
      ],
      "execution_count": null,
      "outputs": [
        {
          "output_type": "execute_result",
          "data": {
            "text/html": [
              "<div>\n",
              "<style scoped>\n",
              "    .dataframe tbody tr th:only-of-type {\n",
              "        vertical-align: middle;\n",
              "    }\n",
              "\n",
              "    .dataframe tbody tr th {\n",
              "        vertical-align: top;\n",
              "    }\n",
              "\n",
              "    .dataframe thead th {\n",
              "        text-align: right;\n",
              "    }\n",
              "</style>\n",
              "<table border=\"1\" class=\"dataframe\">\n",
              "  <thead>\n",
              "    <tr style=\"text-align: right;\">\n",
              "      <th></th>\n",
              "      <th>price</th>\n",
              "      <th>feature1</th>\n",
              "      <th>feature2</th>\n",
              "    </tr>\n",
              "  </thead>\n",
              "  <tbody>\n",
              "    <tr>\n",
              "      <th>count</th>\n",
              "      <td>1000.000000</td>\n",
              "      <td>1000.000000</td>\n",
              "      <td>1000.000000</td>\n",
              "    </tr>\n",
              "    <tr>\n",
              "      <th>mean</th>\n",
              "      <td>498.673029</td>\n",
              "      <td>1000.014171</td>\n",
              "      <td>999.979847</td>\n",
              "    </tr>\n",
              "    <tr>\n",
              "      <th>std</th>\n",
              "      <td>93.785431</td>\n",
              "      <td>0.974018</td>\n",
              "      <td>0.948330</td>\n",
              "    </tr>\n",
              "    <tr>\n",
              "      <th>min</th>\n",
              "      <td>223.346793</td>\n",
              "      <td>997.058347</td>\n",
              "      <td>996.995651</td>\n",
              "    </tr>\n",
              "    <tr>\n",
              "      <th>25%</th>\n",
              "      <td>433.025732</td>\n",
              "      <td>999.332068</td>\n",
              "      <td>999.316106</td>\n",
              "    </tr>\n",
              "    <tr>\n",
              "      <th>50%</th>\n",
              "      <td>502.382117</td>\n",
              "      <td>1000.009915</td>\n",
              "      <td>1000.002243</td>\n",
              "    </tr>\n",
              "    <tr>\n",
              "      <th>75%</th>\n",
              "      <td>564.921588</td>\n",
              "      <td>1000.637580</td>\n",
              "      <td>1000.645380</td>\n",
              "    </tr>\n",
              "    <tr>\n",
              "      <th>max</th>\n",
              "      <td>774.407854</td>\n",
              "      <td>1003.207934</td>\n",
              "      <td>1002.666308</td>\n",
              "    </tr>\n",
              "  </tbody>\n",
              "</table>\n",
              "</div>"
            ],
            "text/plain": [
              "             price     feature1     feature2\n",
              "count  1000.000000  1000.000000  1000.000000\n",
              "mean    498.673029  1000.014171   999.979847\n",
              "std      93.785431     0.974018     0.948330\n",
              "min     223.346793   997.058347   996.995651\n",
              "25%     433.025732   999.332068   999.316106\n",
              "50%     502.382117  1000.009915  1000.002243\n",
              "75%     564.921588  1000.637580  1000.645380\n",
              "max     774.407854  1003.207934  1002.666308"
            ]
          },
          "metadata": {},
          "execution_count": 45
        }
      ]
    },
    {
      "cell_type": "code",
      "metadata": {
        "colab": {
          "base_uri": "https://localhost:8080/",
          "height": 567
        },
        "id": "5Ul0gWGP5EME",
        "outputId": "69eff246-61af-4ab8-af14-2919b21d3d08"
      },
      "source": [
        "sns.pairplot(df)"
      ],
      "execution_count": null,
      "outputs": [
        {
          "output_type": "execute_result",
          "data": {
            "text/plain": [
              "<seaborn.axisgrid.PairGrid at 0x7f9fcf27ad90>"
            ]
          },
          "metadata": {},
          "execution_count": 46
        },
        {
          "output_type": "display_data",
          "data": {
            "image/png": "[encoded data removed]",
            "text/plain": [
              "<Figure size 540x540 with 12 Axes>"
            ]
          },
          "metadata": {
            "needs_background": "light"
          }
        }
      ]
    },
    {
      "cell_type": "code",
      "metadata": {
        "colab": {
          "base_uri": "https://localhost:8080/",
          "height": 142
        },
        "id": "WRlUtpxI7qkA",
        "outputId": "1f883f1a-6e19-439f-95e0-e108b964ef82"
      },
      "source": [
        "df.corr()"
      ],
      "execution_count": null,
      "outputs": [
        {
          "output_type": "execute_result",
          "data": {
            "text/html": [
              "<div>\n",
              "<style scoped>\n",
              "    .dataframe tbody tr th:only-of-type {\n",
              "        vertical-align: middle;\n",
              "    }\n",
              "\n",
              "    .dataframe tbody tr th {\n",
              "        vertical-align: top;\n",
              "    }\n",
              "\n",
              "    .dataframe thead th {\n",
              "        text-align: right;\n",
              "    }\n",
              "</style>\n",
              "<table border=\"1\" class=\"dataframe\">\n",
              "  <thead>\n",
              "    <tr style=\"text-align: right;\">\n",
              "      <th></th>\n",
              "      <th>price</th>\n",
              "      <th>feature1</th>\n",
              "      <th>feature2</th>\n",
              "    </tr>\n",
              "  </thead>\n",
              "  <tbody>\n",
              "    <tr>\n",
              "      <th>price</th>\n",
              "      <td>1.000000</td>\n",
              "      <td>0.444190</td>\n",
              "      <td>0.907576</td>\n",
              "    </tr>\n",
              "    <tr>\n",
              "      <th>feature1</th>\n",
              "      <td>0.444190</td>\n",
              "      <td>1.000000</td>\n",
              "      <td>0.030607</td>\n",
              "    </tr>\n",
              "    <tr>\n",
              "      <th>feature2</th>\n",
              "      <td>0.907576</td>\n",
              "      <td>0.030607</td>\n",
              "      <td>1.000000</td>\n",
              "    </tr>\n",
              "  </tbody>\n",
              "</table>\n",
              "</div>"
            ],
            "text/plain": [
              "             price  feature1  feature2\n",
              "price     1.000000  0.444190  0.907576\n",
              "feature1  0.444190  1.000000  0.030607\n",
              "feature2  0.907576  0.030607  1.000000"
            ]
          },
          "metadata": {},
          "execution_count": 47
        }
      ]
    },
    {
      "cell_type": "code",
      "metadata": {
        "colab": {
          "base_uri": "https://localhost:8080/",
          "height": 103
        },
        "id": "FSxCiaXJ79_p",
        "outputId": "90f42f96-28ff-4051-c000-99c7a4ba0cb2"
      },
      "source": [
        "df.corr().style.background_gradient()"
      ],
      "execution_count": null,
      "outputs": [
        {
          "output_type": "execute_result",
          "data": {
            "text/html": [
              "<style  type=\"text/css\" >\n",
              "#T_7bc5d584_361d_11ec_a4b7_0242ac1c0002row0_col0,#T_7bc5d584_361d_11ec_a4b7_0242ac1c0002row1_col1,#T_7bc5d584_361d_11ec_a4b7_0242ac1c0002row2_col2{\n",
              "            background-color:  #023858;\n",
              "            color:  #f1f1f1;\n",
              "        }#T_7bc5d584_361d_11ec_a4b7_0242ac1c0002row0_col1{\n",
              "            background-color:  #91b5d6;\n",
              "            color:  #000000;\n",
              "        }#T_7bc5d584_361d_11ec_a4b7_0242ac1c0002row0_col2{\n",
              "            background-color:  #045280;\n",
              "            color:  #f1f1f1;\n",
              "        }#T_7bc5d584_361d_11ec_a4b7_0242ac1c0002row1_col0,#T_7bc5d584_361d_11ec_a4b7_0242ac1c0002row1_col2,#T_7bc5d584_361d_11ec_a4b7_0242ac1c0002row2_col1{\n",
              "            background-color:  #fff7fb;\n",
              "            color:  #000000;\n",
              "        }#T_7bc5d584_361d_11ec_a4b7_0242ac1c0002row2_col0{\n",
              "            background-color:  #046198;\n",
              "            color:  #f1f1f1;\n",
              "        }</style><table id=\"T_7bc5d584_361d_11ec_a4b7_0242ac1c0002\" ><thead>    <tr>        <th class=\"blank level0\" ></th>        <th class=\"col_heading level0 col0\" >price</th>        <th class=\"col_heading level0 col1\" >feature1</th>        <th class=\"col_heading level0 col2\" >feature2</th>    </tr></thead><tbody>\n",
              "                <tr>\n",
              "                        <th id=\"T_7bc5d584_361d_11ec_a4b7_0242ac1c0002level0_row0\" class=\"row_heading level0 row0\" >price</th>\n",
              "                        <td id=\"T_7bc5d584_361d_11ec_a4b7_0242ac1c0002row0_col0\" class=\"data row0 col0\" >1.000000</td>\n",
              "                        <td id=\"T_7bc5d584_361d_11ec_a4b7_0242ac1c0002row0_col1\" class=\"data row0 col1\" >0.444190</td>\n",
              "                        <td id=\"T_7bc5d584_361d_11ec_a4b7_0242ac1c0002row0_col2\" class=\"data row0 col2\" >0.907576</td>\n",
              "            </tr>\n",
              "            <tr>\n",
              "                        <th id=\"T_7bc5d584_361d_11ec_a4b7_0242ac1c0002level0_row1\" class=\"row_heading level0 row1\" >feature1</th>\n",
              "                        <td id=\"T_7bc5d584_361d_11ec_a4b7_0242ac1c0002row1_col0\" class=\"data row1 col0\" >0.444190</td>\n",
              "                        <td id=\"T_7bc5d584_361d_11ec_a4b7_0242ac1c0002row1_col1\" class=\"data row1 col1\" >1.000000</td>\n",
              "                        <td id=\"T_7bc5d584_361d_11ec_a4b7_0242ac1c0002row1_col2\" class=\"data row1 col2\" >0.030607</td>\n",
              "            </tr>\n",
              "            <tr>\n",
              "                        <th id=\"T_7bc5d584_361d_11ec_a4b7_0242ac1c0002level0_row2\" class=\"row_heading level0 row2\" >feature2</th>\n",
              "                        <td id=\"T_7bc5d584_361d_11ec_a4b7_0242ac1c0002row2_col0\" class=\"data row2 col0\" >0.907576</td>\n",
              "                        <td id=\"T_7bc5d584_361d_11ec_a4b7_0242ac1c0002row2_col1\" class=\"data row2 col1\" >0.030607</td>\n",
              "                        <td id=\"T_7bc5d584_361d_11ec_a4b7_0242ac1c0002row2_col2\" class=\"data row2 col2\" >1.000000</td>\n",
              "            </tr>\n",
              "    </tbody></table>"
            ],
            "text/plain": [
              "<pandas.io.formats.style.Styler at 0x7f9fcabb4d50>"
            ]
          },
          "metadata": {},
          "execution_count": 48
        }
      ]
    },
    {
      "cell_type": "code",
      "metadata": {
        "colab": {
          "base_uri": "https://localhost:8080/",
          "height": 286
        },
        "id": "JqQhjnye8kyP",
        "outputId": "d88d748c-2c73-4d90-abd4-4b2400ca5d00"
      },
      "source": [
        "sns.heatmap(df.corr(),annot=True , cmap='Pastel1')"
      ],
      "execution_count": null,
      "outputs": [
        {
          "output_type": "execute_result",
          "data": {
            "text/plain": [
              "<matplotlib.axes._subplots.AxesSubplot at 0x7f9fcabfd750>"
            ]
          },
          "metadata": {},
          "execution_count": 49
        },
        {
          "output_type": "display_data",
          "data": {
            "image/png": "[encoded data removed]",
            "text/plain": [
              "<Figure size 432x288 with 2 Axes>"
            ]
          },
          "metadata": {
            "needs_background": "light"
          }
        }
      ]
    },
    {
      "cell_type": "code",
      "metadata": {
        "colab": {
          "base_uri": "https://localhost:8080/"
        },
        "id": "B_9VaINb8tfm",
        "outputId": "86c80b0b-0e41-418f-e60f-62fc7fa60d07"
      },
      "source": [
        "df.corr()['price'].sort_values()"
      ],
      "execution_count": null,
      "outputs": [
        {
          "output_type": "execute_result",
          "data": {
            "text/plain": [
              "feature1    0.444190\n",
              "feature2    0.907576\n",
              "price       1.000000\n",
              "Name: price, dtype: float64"
            ]
          },
          "metadata": {},
          "execution_count": 50
        }
      ]
    },
    {
      "cell_type": "code",
      "metadata": {
        "id": "NX2oZPF19MYG"
      },
      "source": [
        "x = df.iloc[:,1:].values\n",
        "y = df.iloc[:,0].values"
      ],
      "execution_count": null,
      "outputs": []
    },
    {
      "cell_type": "code",
      "metadata": {
        "id": "vXOoNuz39V_u"
      },
      "source": [
        "from sklearn.preprocessing import StandardScaler\n",
        "sc= StandardScaler()\n",
        "x = sc.fit_transform(x)"
      ],
      "execution_count": null,
      "outputs": []
    },
    {
      "cell_type": "code",
      "metadata": {
        "id": "YROTtxdZ9jMm"
      },
      "source": [
        "from sklearn.model_selection import train_test_split\n",
        "xtrain,xtest,ytrain,ytest = train_test_split(x,y,test_size=0.3,random_state=1)"
      ],
      "execution_count": null,
      "outputs": []
    },
    {
      "cell_type": "code",
      "metadata": {
        "id": "bjeds8-W91F1"
      },
      "source": [
        "ann = Sequential()\n",
        "ann.add(Dense(units=4,activation='relu'))\n",
        "ann.add(Dense(units=4,activation='relu'))\n",
        "ann.add(Dense(units=4,activation='relu'))\n",
        "ann.add(Dense(units=1))\n",
        "\n",
        "ann.compile(optimizer='rmsprop',loss='mse')"
      ],
      "execution_count": null,
      "outputs": []
    },
    {
      "cell_type": "code",
      "metadata": {
        "colab": {
          "base_uri": "https://localhost:8080/"
        },
        "id": "HT3m_2gG-Nyc",
        "outputId": "69f697fd-b7dd-40bf-82d3-cbde4cff2222"
      },
      "source": [
        "ann.fit(xtrain,ytrain,epochs=250)"
      ],
      "execution_count": null,
      "outputs": [
        {
          "output_type": "stream",
          "name": "stdout",
          "text": [
            "Epoch 1/250\n",
            "22/22 [==============================] - 1s 1ms/step - loss: 255804.6094\n",
            "Epoch 2/250\n",
            "22/22 [==============================] - 0s 1ms/step - loss: 255431.5625\n",
            "Epoch 3/250\n",
            "22/22 [==============================] - 0s 1ms/step - loss: 255085.8438\n",
            "Epoch 4/250\n",
            "22/22 [==============================] - 0s 1ms/step - loss: 254734.1875\n",
            "Epoch 5/250\n",
            "22/22 [==============================] - 0s 1ms/step - loss: 254363.0781\n",
            "Epoch 6/250\n",
            "22/22 [==============================] - 0s 1ms/step - loss: 253942.5781\n",
            "Epoch 7/250\n",
            "22/22 [==============================] - 0s 1ms/step - loss: 253465.6719\n",
            "Epoch 8/250\n",
            "22/22 [==============================] - 0s 1ms/step - loss: 252936.0625\n",
            "Epoch 9/250\n",
            "22/22 [==============================] - 0s 1ms/step - loss: 252340.5000\n",
            "Epoch 10/250\n",
            "22/22 [==============================] - 0s 2ms/step - loss: 251682.5156\n",
            "Epoch 11/250\n",
            "22/22 [==============================] - 0s 1ms/step - loss: 250956.5312\n",
            "Epoch 12/250\n",
            "22/22 [==============================] - 0s 1ms/step - loss: 250155.0781\n",
            "Epoch 13/250\n",
            "22/22 [==============================] - 0s 1ms/step - loss: 249285.6250\n",
            "Epoch 14/250\n",
            "22/22 [==============================] - 0s 1ms/step - loss: 248337.4844\n",
            "Epoch 15/250\n",
            "22/22 [==============================] - 0s 1ms/step - loss: 247307.3594\n",
            "Epoch 16/250\n",
            "22/22 [==============================] - 0s 1ms/step - loss: 246187.2969\n",
            "Epoch 17/250\n",
            "22/22 [==============================] - 0s 2ms/step - loss: 244963.2969\n",
            "Epoch 18/250\n",
            "22/22 [==============================] - 0s 1ms/step - loss: 243630.5156\n",
            "Epoch 19/250\n",
            "22/22 [==============================] - 0s 1ms/step - loss: 242170.8594\n",
            "Epoch 20/250\n",
            "22/22 [==============================] - 0s 1ms/step - loss: 240593.5781\n",
            "Epoch 21/250\n",
            "22/22 [==============================] - 0s 1ms/step - loss: 238887.1719\n",
            "Epoch 22/250\n",
            "22/22 [==============================] - 0s 1ms/step - loss: 237060.8438\n",
            "Epoch 23/250\n",
            "22/22 [==============================] - 0s 1ms/step - loss: 235086.0312\n",
            "Epoch 24/250\n",
            "22/22 [==============================] - 0s 2ms/step - loss: 232954.1094\n",
            "Epoch 25/250\n",
            "22/22 [==============================] - 0s 2ms/step - loss: 230703.7188\n",
            "Epoch 26/250\n",
            "22/22 [==============================] - 0s 1ms/step - loss: 228275.5625\n",
            "Epoch 27/250\n",
            "22/22 [==============================] - 0s 1ms/step - loss: 225722.7188\n",
            "Epoch 28/250\n",
            "22/22 [==============================] - 0s 1ms/step - loss: 222998.1094\n",
            "Epoch 29/250\n",
            "22/22 [==============================] - 0s 1ms/step - loss: 220061.0781\n",
            "Epoch 30/250\n",
            "22/22 [==============================] - 0s 2ms/step - loss: 216974.1562\n",
            "Epoch 31/250\n",
            "22/22 [==============================] - 0s 1ms/step - loss: 213700.2969\n",
            "Epoch 32/250\n",
            "22/22 [==============================] - 0s 1ms/step - loss: 210287.0000\n",
            "Epoch 33/250\n",
            "22/22 [==============================] - 0s 1ms/step - loss: 206628.7031\n",
            "Epoch 34/250\n",
            "22/22 [==============================] - 0s 1ms/step - loss: 202808.2812\n",
            "Epoch 35/250\n",
            "22/22 [==============================] - 0s 1ms/step - loss: 198764.1094\n",
            "Epoch 36/250\n",
            "22/22 [==============================] - 0s 1ms/step - loss: 194525.5156\n",
            "Epoch 37/250\n",
            "22/22 [==============================] - 0s 1ms/step - loss: 190106.6094\n",
            "Epoch 38/250\n",
            "22/22 [==============================] - 0s 1ms/step - loss: 185482.8594\n",
            "Epoch 39/250\n",
            "22/22 [==============================] - 0s 1ms/step - loss: 180661.0312\n",
            "Epoch 40/250\n",
            "22/22 [==============================] - 0s 1ms/step - loss: 175608.5312\n",
            "Epoch 41/250\n",
            "22/22 [==============================] - 0s 1ms/step - loss: 170386.8281\n",
            "Epoch 42/250\n",
            "22/22 [==============================] - 0s 1ms/step - loss: 165022.3281\n",
            "Epoch 43/250\n",
            "22/22 [==============================] - 0s 2ms/step - loss: 159434.9062\n",
            "Epoch 44/250\n",
            "22/22 [==============================] - 0s 3ms/step - loss: 153702.6719\n",
            "Epoch 45/250\n",
            "22/22 [==============================] - 0s 1ms/step - loss: 147818.1094\n",
            "Epoch 46/250\n",
            "22/22 [==============================] - 0s 2ms/step - loss: 141705.7812\n",
            "Epoch 47/250\n",
            "22/22 [==============================] - 0s 1ms/step - loss: 135552.0312\n",
            "Epoch 48/250\n",
            "22/22 [==============================] - 0s 1ms/step - loss: 129241.3906\n",
            "Epoch 49/250\n",
            "22/22 [==============================] - 0s 2ms/step - loss: 122814.6641\n",
            "Epoch 50/250\n",
            "22/22 [==============================] - 0s 2ms/step - loss: 116269.5000\n",
            "Epoch 51/250\n",
            "22/22 [==============================] - 0s 2ms/step - loss: 109697.1406\n",
            "Epoch 52/250\n",
            "22/22 [==============================] - 0s 2ms/step - loss: 103115.8281\n",
            "Epoch 53/250\n",
            "22/22 [==============================] - 0s 1ms/step - loss: 96500.5859\n",
            "Epoch 54/250\n",
            "22/22 [==============================] - 0s 1ms/step - loss: 89927.5938\n",
            "Epoch 55/250\n",
            "22/22 [==============================] - 0s 1ms/step - loss: 83394.2188\n",
            "Epoch 56/250\n",
            "22/22 [==============================] - 0s 1ms/step - loss: 76943.5859\n",
            "Epoch 57/250\n",
            "22/22 [==============================] - 0s 2ms/step - loss: 70616.8828\n",
            "Epoch 58/250\n",
            "22/22 [==============================] - 0s 1ms/step - loss: 64440.6133\n",
            "Epoch 59/250\n",
            "22/22 [==============================] - 0s 1ms/step - loss: 58430.2930\n",
            "Epoch 60/250\n",
            "22/22 [==============================] - 0s 2ms/step - loss: 52708.5469\n",
            "Epoch 61/250\n",
            "22/22 [==============================] - 0s 1ms/step - loss: 47237.5508\n",
            "Epoch 62/250\n",
            "22/22 [==============================] - 0s 1ms/step - loss: 42075.1680\n",
            "Epoch 63/250\n",
            "22/22 [==============================] - 0s 1ms/step - loss: 37170.9688\n",
            "Epoch 64/250\n",
            "22/22 [==============================] - 0s 1ms/step - loss: 32608.9648\n",
            "Epoch 65/250\n",
            "22/22 [==============================] - 0s 2ms/step - loss: 28484.6855\n",
            "Epoch 66/250\n",
            "22/22 [==============================] - 0s 1ms/step - loss: 24808.1230\n",
            "Epoch 67/250\n",
            "22/22 [==============================] - 0s 1ms/step - loss: 21567.5137\n",
            "Epoch 68/250\n",
            "22/22 [==============================] - 0s 2ms/step - loss: 18880.4922\n",
            "Epoch 69/250\n",
            "22/22 [==============================] - 0s 1ms/step - loss: 16734.7832\n",
            "Epoch 70/250\n",
            "22/22 [==============================] - 0s 1ms/step - loss: 15041.0869\n",
            "Epoch 71/250\n",
            "22/22 [==============================] - 0s 2ms/step - loss: 13775.3447\n",
            "Epoch 72/250\n",
            "22/22 [==============================] - 0s 1ms/step - loss: 12824.0098\n",
            "Epoch 73/250\n",
            "22/22 [==============================] - 0s 2ms/step - loss: 12036.8584\n",
            "Epoch 74/250\n",
            "22/22 [==============================] - 0s 2ms/step - loss: 11345.5117\n",
            "Epoch 75/250\n",
            "22/22 [==============================] - 0s 1ms/step - loss: 10698.4043\n",
            "Epoch 76/250\n",
            "22/22 [==============================] - 0s 2ms/step - loss: 10094.7188\n",
            "Epoch 77/250\n",
            "22/22 [==============================] - 0s 1ms/step - loss: 9531.5537\n",
            "Epoch 78/250\n",
            "22/22 [==============================] - 0s 1ms/step - loss: 8997.9541\n",
            "Epoch 79/250\n",
            "22/22 [==============================] - 0s 1ms/step - loss: 8485.7197\n",
            "Epoch 80/250\n",
            "22/22 [==============================] - 0s 1ms/step - loss: 8001.3535\n",
            "Epoch 81/250\n",
            "22/22 [==============================] - 0s 2ms/step - loss: 7541.3267\n",
            "Epoch 82/250\n",
            "22/22 [==============================] - 0s 1ms/step - loss: 7122.5479\n",
            "Epoch 83/250\n",
            "22/22 [==============================] - 0s 1ms/step - loss: 6699.1494\n",
            "Epoch 84/250\n",
            "22/22 [==============================] - 0s 2ms/step - loss: 6300.1870\n",
            "Epoch 85/250\n",
            "22/22 [==============================] - 0s 2ms/step - loss: 5925.3862\n",
            "Epoch 86/250\n",
            "22/22 [==============================] - 0s 2ms/step - loss: 5577.8159\n",
            "Epoch 87/250\n",
            "22/22 [==============================] - 0s 2ms/step - loss: 5224.6094\n",
            "Epoch 88/250\n",
            "22/22 [==============================] - 0s 2ms/step - loss: 4895.6909\n",
            "Epoch 89/250\n",
            "22/22 [==============================] - 0s 2ms/step - loss: 4585.0923\n",
            "Epoch 90/250\n",
            "22/22 [==============================] - 0s 2ms/step - loss: 4288.0894\n",
            "Epoch 91/250\n",
            "22/22 [==============================] - 0s 1ms/step - loss: 4002.4221\n",
            "Epoch 92/250\n",
            "22/22 [==============================] - 0s 2ms/step - loss: 3741.0786\n",
            "Epoch 93/250\n",
            "22/22 [==============================] - 0s 2ms/step - loss: 3471.6604\n",
            "Epoch 94/250\n",
            "22/22 [==============================] - 0s 2ms/step - loss: 3227.3594\n",
            "Epoch 95/250\n",
            "22/22 [==============================] - 0s 2ms/step - loss: 3012.6204\n",
            "Epoch 96/250\n",
            "22/22 [==============================] - 0s 2ms/step - loss: 2808.6851\n",
            "Epoch 97/250\n",
            "22/22 [==============================] - 0s 2ms/step - loss: 2606.1560\n",
            "Epoch 98/250\n",
            "22/22 [==============================] - 0s 2ms/step - loss: 2410.9526\n",
            "Epoch 99/250\n",
            "22/22 [==============================] - 0s 2ms/step - loss: 2235.0686\n",
            "Epoch 100/250\n",
            "22/22 [==============================] - 0s 1ms/step - loss: 2074.9775\n",
            "Epoch 101/250\n",
            "22/22 [==============================] - 0s 2ms/step - loss: 1922.2402\n",
            "Epoch 102/250\n",
            "22/22 [==============================] - 0s 2ms/step - loss: 1784.4116\n",
            "Epoch 103/250\n",
            "22/22 [==============================] - 0s 2ms/step - loss: 1651.7300\n",
            "Epoch 104/250\n",
            "22/22 [==============================] - 0s 2ms/step - loss: 1527.1678\n",
            "Epoch 105/250\n",
            "22/22 [==============================] - 0s 1ms/step - loss: 1409.3741\n",
            "Epoch 106/250\n",
            "22/22 [==============================] - 0s 1ms/step - loss: 1303.0736\n",
            "Epoch 107/250\n",
            "22/22 [==============================] - 0s 1ms/step - loss: 1205.0474\n",
            "Epoch 108/250\n",
            "22/22 [==============================] - 0s 1ms/step - loss: 1107.9766\n",
            "Epoch 109/250\n",
            "22/22 [==============================] - 0s 1ms/step - loss: 1026.7290\n",
            "Epoch 110/250\n",
            "22/22 [==============================] - 0s 2ms/step - loss: 948.8476\n",
            "Epoch 111/250\n",
            "22/22 [==============================] - 0s 2ms/step - loss: 873.9881\n",
            "Epoch 112/250\n",
            "22/22 [==============================] - 0s 1ms/step - loss: 813.2041\n",
            "Epoch 113/250\n",
            "22/22 [==============================] - 0s 1ms/step - loss: 752.5064\n",
            "Epoch 114/250\n",
            "22/22 [==============================] - 0s 1ms/step - loss: 701.1633\n",
            "Epoch 115/250\n",
            "22/22 [==============================] - 0s 1ms/step - loss: 651.7651\n",
            "Epoch 116/250\n",
            "22/22 [==============================] - 0s 2ms/step - loss: 605.2000\n",
            "Epoch 117/250\n",
            "22/22 [==============================] - 0s 2ms/step - loss: 559.8460\n",
            "Epoch 118/250\n",
            "22/22 [==============================] - 0s 2ms/step - loss: 517.4688\n",
            "Epoch 119/250\n",
            "22/22 [==============================] - 0s 2ms/step - loss: 479.1107\n",
            "Epoch 120/250\n",
            "22/22 [==============================] - 0s 2ms/step - loss: 444.9966\n",
            "Epoch 121/250\n",
            "22/22 [==============================] - 0s 2ms/step - loss: 411.8586\n",
            "Epoch 122/250\n",
            "22/22 [==============================] - 0s 1ms/step - loss: 380.1760\n",
            "Epoch 123/250\n",
            "22/22 [==============================] - 0s 1ms/step - loss: 352.5048\n",
            "Epoch 124/250\n",
            "22/22 [==============================] - 0s 1ms/step - loss: 327.9584\n",
            "Epoch 125/250\n",
            "22/22 [==============================] - 0s 1ms/step - loss: 302.3389\n",
            "Epoch 126/250\n",
            "22/22 [==============================] - 0s 2ms/step - loss: 282.0252\n",
            "Epoch 127/250\n",
            "22/22 [==============================] - 0s 1ms/step - loss: 263.7302\n",
            "Epoch 128/250\n",
            "22/22 [==============================] - 0s 2ms/step - loss: 244.3376\n",
            "Epoch 129/250\n",
            "22/22 [==============================] - 0s 2ms/step - loss: 226.7388\n",
            "Epoch 130/250\n",
            "22/22 [==============================] - 0s 1ms/step - loss: 210.9678\n",
            "Epoch 131/250\n",
            "22/22 [==============================] - 0s 1ms/step - loss: 195.0121\n",
            "Epoch 132/250\n",
            "22/22 [==============================] - 0s 1ms/step - loss: 181.5004\n",
            "Epoch 133/250\n",
            "22/22 [==============================] - 0s 1ms/step - loss: 169.9264\n",
            "Epoch 134/250\n",
            "22/22 [==============================] - 0s 2ms/step - loss: 155.4636\n",
            "Epoch 135/250\n",
            "22/22 [==============================] - 0s 2ms/step - loss: 144.5092\n",
            "Epoch 136/250\n",
            "22/22 [==============================] - 0s 2ms/step - loss: 133.8818\n",
            "Epoch 137/250\n",
            "22/22 [==============================] - 0s 3ms/step - loss: 124.1343\n",
            "Epoch 138/250\n",
            "22/22 [==============================] - 0s 2ms/step - loss: 114.9093\n",
            "Epoch 139/250\n",
            "22/22 [==============================] - 0s 2ms/step - loss: 109.3703\n",
            "Epoch 140/250\n",
            "22/22 [==============================] - 0s 2ms/step - loss: 101.9863\n",
            "Epoch 141/250\n",
            "22/22 [==============================] - 0s 2ms/step - loss: 95.7707\n",
            "Epoch 142/250\n",
            "22/22 [==============================] - 0s 2ms/step - loss: 88.6837\n",
            "Epoch 143/250\n",
            "22/22 [==============================] - 0s 2ms/step - loss: 83.5451\n",
            "Epoch 144/250\n",
            "22/22 [==============================] - 0s 2ms/step - loss: 77.8161\n",
            "Epoch 145/250\n",
            "22/22 [==============================] - 0s 2ms/step - loss: 72.2657\n",
            "Epoch 146/250\n",
            "22/22 [==============================] - 0s 2ms/step - loss: 68.0119\n",
            "Epoch 147/250\n",
            "22/22 [==============================] - 0s 2ms/step - loss: 64.0733\n",
            "Epoch 148/250\n",
            "22/22 [==============================] - 0s 1ms/step - loss: 60.1981\n",
            "Epoch 149/250\n",
            "22/22 [==============================] - 0s 1ms/step - loss: 57.1378\n",
            "Epoch 150/250\n",
            "22/22 [==============================] - 0s 1ms/step - loss: 53.8232\n",
            "Epoch 151/250\n",
            "22/22 [==============================] - 0s 2ms/step - loss: 50.6524\n",
            "Epoch 152/250\n",
            "22/22 [==============================] - 0s 1ms/step - loss: 49.0502\n",
            "Epoch 153/250\n",
            "22/22 [==============================] - 0s 2ms/step - loss: 46.5830\n",
            "Epoch 154/250\n",
            "22/22 [==============================] - 0s 1ms/step - loss: 44.3834\n",
            "Epoch 155/250\n",
            "22/22 [==============================] - 0s 2ms/step - loss: 42.2655\n",
            "Epoch 156/250\n",
            "22/22 [==============================] - 0s 2ms/step - loss: 40.8571\n",
            "Epoch 157/250\n",
            "22/22 [==============================] - 0s 2ms/step - loss: 40.2875\n",
            "Epoch 158/250\n",
            "22/22 [==============================] - 0s 1ms/step - loss: 38.0424\n",
            "Epoch 159/250\n",
            "22/22 [==============================] - 0s 1ms/step - loss: 37.3161\n",
            "Epoch 160/250\n",
            "22/22 [==============================] - 0s 2ms/step - loss: 35.6364\n",
            "Epoch 161/250\n",
            "22/22 [==============================] - 0s 2ms/step - loss: 35.0701\n",
            "Epoch 162/250\n",
            "22/22 [==============================] - 0s 2ms/step - loss: 34.3301\n",
            "Epoch 163/250\n",
            "22/22 [==============================] - 0s 2ms/step - loss: 33.4182\n",
            "Epoch 164/250\n",
            "22/22 [==============================] - 0s 1ms/step - loss: 33.0147\n",
            "Epoch 165/250\n",
            "22/22 [==============================] - 0s 2ms/step - loss: 32.2769\n",
            "Epoch 166/250\n",
            "22/22 [==============================] - 0s 2ms/step - loss: 31.9738\n",
            "Epoch 167/250\n",
            "22/22 [==============================] - 0s 2ms/step - loss: 31.3567\n",
            "Epoch 168/250\n",
            "22/22 [==============================] - 0s 2ms/step - loss: 30.4565\n",
            "Epoch 169/250\n",
            "22/22 [==============================] - 0s 1ms/step - loss: 30.4477\n",
            "Epoch 170/250\n",
            "22/22 [==============================] - 0s 2ms/step - loss: 30.0408\n",
            "Epoch 171/250\n",
            "22/22 [==============================] - 0s 1ms/step - loss: 29.6712\n",
            "Epoch 172/250\n",
            "22/22 [==============================] - 0s 2ms/step - loss: 29.0507\n",
            "Epoch 173/250\n",
            "22/22 [==============================] - 0s 2ms/step - loss: 28.7190\n",
            "Epoch 174/250\n",
            "22/22 [==============================] - 0s 2ms/step - loss: 28.0238\n",
            "Epoch 175/250\n",
            "22/22 [==============================] - 0s 2ms/step - loss: 27.9837\n",
            "Epoch 176/250\n",
            "22/22 [==============================] - 0s 2ms/step - loss: 27.4263\n",
            "Epoch 177/250\n",
            "22/22 [==============================] - 0s 1ms/step - loss: 27.4610\n",
            "Epoch 178/250\n",
            "22/22 [==============================] - 0s 1ms/step - loss: 27.4844\n",
            "Epoch 179/250\n",
            "22/22 [==============================] - 0s 1ms/step - loss: 26.6353\n",
            "Epoch 180/250\n",
            "22/22 [==============================] - 0s 1ms/step - loss: 26.6076\n",
            "Epoch 181/250\n",
            "22/22 [==============================] - 0s 1ms/step - loss: 26.3130\n",
            "Epoch 182/250\n",
            "22/22 [==============================] - 0s 2ms/step - loss: 25.9988\n",
            "Epoch 183/250\n",
            "22/22 [==============================] - 0s 2ms/step - loss: 26.0810\n",
            "Epoch 184/250\n",
            "22/22 [==============================] - 0s 1ms/step - loss: 25.5903\n",
            "Epoch 185/250\n",
            "22/22 [==============================] - 0s 1ms/step - loss: 25.4774\n",
            "Epoch 186/250\n",
            "22/22 [==============================] - 0s 1ms/step - loss: 25.2571\n",
            "Epoch 187/250\n",
            "22/22 [==============================] - 0s 2ms/step - loss: 25.1981\n",
            "Epoch 188/250\n",
            "22/22 [==============================] - 0s 2ms/step - loss: 24.8890\n",
            "Epoch 189/250\n",
            "22/22 [==============================] - 0s 2ms/step - loss: 24.7033\n",
            "Epoch 190/250\n",
            "22/22 [==============================] - 0s 1ms/step - loss: 24.9900\n",
            "Epoch 191/250\n",
            "22/22 [==============================] - 0s 2ms/step - loss: 24.6043\n",
            "Epoch 192/250\n",
            "22/22 [==============================] - 0s 1ms/step - loss: 24.3308\n",
            "Epoch 193/250\n",
            "22/22 [==============================] - 0s 2ms/step - loss: 24.8253\n",
            "Epoch 194/250\n",
            "22/22 [==============================] - 0s 2ms/step - loss: 24.3610\n",
            "Epoch 195/250\n",
            "22/22 [==============================] - 0s 2ms/step - loss: 24.2222\n",
            "Epoch 196/250\n",
            "22/22 [==============================] - 0s 2ms/step - loss: 24.2981\n",
            "Epoch 197/250\n",
            "22/22 [==============================] - 0s 1ms/step - loss: 24.5528\n",
            "Epoch 198/250\n",
            "22/22 [==============================] - 0s 2ms/step - loss: 24.4055\n",
            "Epoch 199/250\n",
            "22/22 [==============================] - 0s 2ms/step - loss: 24.1934\n",
            "Epoch 200/250\n",
            "22/22 [==============================] - 0s 2ms/step - loss: 24.0124\n",
            "Epoch 201/250\n",
            "22/22 [==============================] - 0s 2ms/step - loss: 24.3813\n",
            "Epoch 202/250\n",
            "22/22 [==============================] - 0s 2ms/step - loss: 24.0046\n",
            "Epoch 203/250\n",
            "22/22 [==============================] - 0s 2ms/step - loss: 23.9253\n",
            "Epoch 204/250\n",
            "22/22 [==============================] - 0s 2ms/step - loss: 24.5305\n",
            "Epoch 205/250\n",
            "22/22 [==============================] - 0s 2ms/step - loss: 23.6700\n",
            "Epoch 206/250\n",
            "22/22 [==============================] - 0s 2ms/step - loss: 23.9328\n",
            "Epoch 207/250\n",
            "22/22 [==============================] - 0s 2ms/step - loss: 23.8145\n",
            "Epoch 208/250\n",
            "22/22 [==============================] - 0s 2ms/step - loss: 23.7013\n",
            "Epoch 209/250\n",
            "22/22 [==============================] - 0s 2ms/step - loss: 24.2479\n",
            "Epoch 210/250\n",
            "22/22 [==============================] - 0s 1ms/step - loss: 24.0437\n",
            "Epoch 211/250\n",
            "22/22 [==============================] - 0s 1ms/step - loss: 23.9090\n",
            "Epoch 212/250\n",
            "22/22 [==============================] - 0s 2ms/step - loss: 23.9463\n",
            "Epoch 213/250\n",
            "22/22 [==============================] - 0s 2ms/step - loss: 23.7606\n",
            "Epoch 214/250\n",
            "22/22 [==============================] - 0s 2ms/step - loss: 24.2022\n",
            "Epoch 215/250\n",
            "22/22 [==============================] - 0s 2ms/step - loss: 23.6347\n",
            "Epoch 216/250\n",
            "22/22 [==============================] - 0s 2ms/step - loss: 23.4468\n",
            "Epoch 217/250\n",
            "22/22 [==============================] - 0s 2ms/step - loss: 23.5743\n",
            "Epoch 218/250\n",
            "22/22 [==============================] - 0s 3ms/step - loss: 24.0938\n",
            "Epoch 219/250\n",
            "22/22 [==============================] - 0s 2ms/step - loss: 23.7417\n",
            "Epoch 220/250\n",
            "22/22 [==============================] - 0s 2ms/step - loss: 23.8546\n",
            "Epoch 221/250\n",
            "22/22 [==============================] - 0s 2ms/step - loss: 23.7019\n",
            "Epoch 222/250\n",
            "22/22 [==============================] - 0s 2ms/step - loss: 23.3687\n",
            "Epoch 223/250\n",
            "22/22 [==============================] - 0s 2ms/step - loss: 23.9228\n",
            "Epoch 224/250\n",
            "22/22 [==============================] - 0s 2ms/step - loss: 23.6469\n",
            "Epoch 225/250\n",
            "22/22 [==============================] - 0s 1ms/step - loss: 23.4017\n",
            "Epoch 226/250\n",
            "22/22 [==============================] - 0s 2ms/step - loss: 23.3242\n",
            "Epoch 227/250\n",
            "22/22 [==============================] - 0s 2ms/step - loss: 23.5388\n",
            "Epoch 228/250\n",
            "22/22 [==============================] - 0s 1ms/step - loss: 23.7951\n",
            "Epoch 229/250\n",
            "22/22 [==============================] - 0s 1ms/step - loss: 23.3591\n",
            "Epoch 230/250\n",
            "22/22 [==============================] - 0s 1ms/step - loss: 23.6252\n",
            "Epoch 231/250\n",
            "22/22 [==============================] - 0s 2ms/step - loss: 23.6911\n",
            "Epoch 232/250\n",
            "22/22 [==============================] - 0s 2ms/step - loss: 23.6576\n",
            "Epoch 233/250\n",
            "22/22 [==============================] - 0s 1ms/step - loss: 24.0930\n",
            "Epoch 234/250\n",
            "22/22 [==============================] - 0s 1ms/step - loss: 23.3825\n",
            "Epoch 235/250\n",
            "22/22 [==============================] - 0s 1ms/step - loss: 23.8825\n",
            "Epoch 236/250\n",
            "22/22 [==============================] - 0s 1ms/step - loss: 23.2762\n",
            "Epoch 237/250\n",
            "22/22 [==============================] - 0s 2ms/step - loss: 23.7113\n",
            "Epoch 238/250\n",
            "22/22 [==============================] - 0s 2ms/step - loss: 23.6907\n",
            "Epoch 239/250\n",
            "22/22 [==============================] - 0s 1ms/step - loss: 23.9963\n",
            "Epoch 240/250\n",
            "22/22 [==============================] - 0s 1ms/step - loss: 23.3671\n",
            "Epoch 241/250\n",
            "22/22 [==============================] - 0s 1ms/step - loss: 23.8262\n",
            "Epoch 242/250\n",
            "22/22 [==============================] - 0s 2ms/step - loss: 23.6179\n",
            "Epoch 243/250\n",
            "22/22 [==============================] - 0s 2ms/step - loss: 23.9708\n",
            "Epoch 244/250\n",
            "22/22 [==============================] - 0s 2ms/step - loss: 23.6107\n",
            "Epoch 245/250\n",
            "22/22 [==============================] - 0s 2ms/step - loss: 23.4920\n",
            "Epoch 246/250\n",
            "22/22 [==============================] - 0s 2ms/step - loss: 23.4788\n",
            "Epoch 247/250\n",
            "22/22 [==============================] - 0s 2ms/step - loss: 22.9837\n",
            "Epoch 248/250\n",
            "22/22 [==============================] - 0s 2ms/step - loss: 24.0434\n",
            "Epoch 249/250\n",
            "22/22 [==============================] - 0s 2ms/step - loss: 23.3911\n",
            "Epoch 250/250\n",
            "22/22 [==============================] - 0s 2ms/step - loss: 23.8719\n"
          ]
        },
        {
          "output_type": "execute_result",
          "data": {
            "text/plain": [
              "<keras.callbacks.History at 0x7f9fcaaf6290>"
            ]
          },
          "metadata": {},
          "execution_count": 55
        }
      ]
    },
    {
      "cell_type": "code",
      "metadata": {
        "colab": {
          "base_uri": "https://localhost:8080/",
          "height": 204
        },
        "id": "rGHAQ_nf-TDE",
        "outputId": "60b9aa7b-725c-4dbb-8ac1-2f46e8fb433a"
      },
      "source": [
        "loss=pd.DataFrame(ann.history.history)\n",
        "loss.head()"
      ],
      "execution_count": null,
      "outputs": [
        {
          "output_type": "execute_result",
          "data": {
            "text/html": [
              "<div>\n",
              "<style scoped>\n",
              "    .dataframe tbody tr th:only-of-type {\n",
              "        vertical-align: middle;\n",
              "    }\n",
              "\n",
              "    .dataframe tbody tr th {\n",
              "        vertical-align: top;\n",
              "    }\n",
              "\n",
              "    .dataframe thead th {\n",
              "        text-align: right;\n",
              "    }\n",
              "</style>\n",
              "<table border=\"1\" class=\"dataframe\">\n",
              "  <thead>\n",
              "    <tr style=\"text-align: right;\">\n",
              "      <th></th>\n",
              "      <th>loss</th>\n",
              "    </tr>\n",
              "  </thead>\n",
              "  <tbody>\n",
              "    <tr>\n",
              "      <th>0</th>\n",
              "      <td>255804.609375</td>\n",
              "    </tr>\n",
              "    <tr>\n",
              "      <th>1</th>\n",
              "      <td>255431.562500</td>\n",
              "    </tr>\n",
              "    <tr>\n",
              "      <th>2</th>\n",
              "      <td>255085.843750</td>\n",
              "    </tr>\n",
              "    <tr>\n",
              "      <th>3</th>\n",
              "      <td>254734.187500</td>\n",
              "    </tr>\n",
              "    <tr>\n",
              "      <th>4</th>\n",
              "      <td>254363.078125</td>\n",
              "    </tr>\n",
              "  </tbody>\n",
              "</table>\n",
              "</div>"
            ],
            "text/plain": [
              "            loss\n",
              "0  255804.609375\n",
              "1  255431.562500\n",
              "2  255085.843750\n",
              "3  254734.187500\n",
              "4  254363.078125"
            ]
          },
          "metadata": {},
          "execution_count": 56
        }
      ]
    },
    {
      "cell_type": "code",
      "metadata": {
        "colab": {
          "base_uri": "https://localhost:8080/",
          "height": 204
        },
        "id": "cJdXVwJb-bL1",
        "outputId": "f912567f-4537-49d9-ed2c-7bf041d5868e"
      },
      "source": [
        "loss.tail()"
      ],
      "execution_count": null,
      "outputs": [
        {
          "output_type": "execute_result",
          "data": {
            "text/html": [
              "<div>\n",
              "<style scoped>\n",
              "    .dataframe tbody tr th:only-of-type {\n",
              "        vertical-align: middle;\n",
              "    }\n",
              "\n",
              "    .dataframe tbody tr th {\n",
              "        vertical-align: top;\n",
              "    }\n",
              "\n",
              "    .dataframe thead th {\n",
              "        text-align: right;\n",
              "    }\n",
              "</style>\n",
              "<table border=\"1\" class=\"dataframe\">\n",
              "  <thead>\n",
              "    <tr style=\"text-align: right;\">\n",
              "      <th></th>\n",
              "      <th>loss</th>\n",
              "    </tr>\n",
              "  </thead>\n",
              "  <tbody>\n",
              "    <tr>\n",
              "      <th>245</th>\n",
              "      <td>23.478819</td>\n",
              "    </tr>\n",
              "    <tr>\n",
              "      <th>246</th>\n",
              "      <td>22.983671</td>\n",
              "    </tr>\n",
              "    <tr>\n",
              "      <th>247</th>\n",
              "      <td>24.043444</td>\n",
              "    </tr>\n",
              "    <tr>\n",
              "      <th>248</th>\n",
              "      <td>23.391066</td>\n",
              "    </tr>\n",
              "    <tr>\n",
              "      <th>249</th>\n",
              "      <td>23.871883</td>\n",
              "    </tr>\n",
              "  </tbody>\n",
              "</table>\n",
              "</div>"
            ],
            "text/plain": [
              "          loss\n",
              "245  23.478819\n",
              "246  22.983671\n",
              "247  24.043444\n",
              "248  23.391066\n",
              "249  23.871883"
            ]
          },
          "metadata": {},
          "execution_count": 57
        }
      ]
    },
    {
      "cell_type": "code",
      "metadata": {
        "colab": {
          "base_uri": "https://localhost:8080/",
          "height": 282
        },
        "id": "FH7jIAvi-cU1",
        "outputId": "5d6fc895-9cb0-4ae5-abb7-ab0a2fd6151a"
      },
      "source": [
        "loss.plot()"
      ],
      "execution_count": null,
      "outputs": [
        {
          "output_type": "execute_result",
          "data": {
            "text/plain": [
              "<matplotlib.axes._subplots.AxesSubplot at 0x7f9fcc54cad0>"
            ]
          },
          "metadata": {},
          "execution_count": 58
        },
        {
          "output_type": "display_data",
          "data": {
            "image/png": "[encoded data removed]",
            "text/plain": [
              "<Figure size 432x288 with 1 Axes>"
            ]
          },
          "metadata": {
            "needs_background": "light"
          }
        }
      ]
    },
    {
      "cell_type": "code",
      "metadata": {
        "colab": {
          "base_uri": "https://localhost:8080/"
        },
        "id": "nVjWSAUV-eWF",
        "outputId": "264d4c03-6fd6-4b8d-b10d-f7f9c52a0226"
      },
      "source": [
        "ann.evaluate(xtrain,ytrain)"
      ],
      "execution_count": null,
      "outputs": [
        {
          "output_type": "stream",
          "name": "stdout",
          "text": [
            "22/22 [==============================] - 0s 1ms/step - loss: 25.0153\n"
          ]
        },
        {
          "output_type": "execute_result",
          "data": {
            "text/plain": [
              "25.01528549194336"
            ]
          },
          "metadata": {},
          "execution_count": 59
        }
      ]
    },
    {
      "cell_type": "code",
      "metadata": {
        "colab": {
          "base_uri": "https://localhost:8080/"
        },
        "id": "ccs1HnDU-h38",
        "outputId": "d723e09f-4bf3-4a1a-d13d-ccb2707b4979"
      },
      "source": [
        "ann.evaluate(xtest,ytest)"
      ],
      "execution_count": null,
      "outputs": [
        {
          "output_type": "stream",
          "name": "stdout",
          "text": [
            "10/10 [==============================] - 0s 2ms/step - loss: 36.4474\n"
          ]
        },
        {
          "output_type": "execute_result",
          "data": {
            "text/plain": [
              "36.447391510009766"
            ]
          },
          "metadata": {},
          "execution_count": 60
        }
      ]
    },
    {
      "cell_type": "code",
      "metadata": {
        "id": "GIo4zbM9-lac"
      },
      "source": [
        "ypred = ann.predict(xtest)"
      ],
      "execution_count": null,
      "outputs": []
    },
    {
      "cell_type": "code",
      "metadata": {
        "id": "h0e6Wc42-qKs"
      },
      "source": [
        "dic = {'Actual Y':ytest , 'Predicted Y':ypred.flatten()}\n",
        "df1 = pd.DataFrame(dic)"
      ],
      "execution_count": null,
      "outputs": []
    },
    {
      "cell_type": "code",
      "metadata": {
        "colab": {
          "base_uri": "https://localhost:8080/",
          "height": 204
        },
        "id": "sOFvJyPL_CBc",
        "outputId": "bbe2b206-eacd-4d9b-ed1b-61263f2744ca"
      },
      "source": [
        "df1.head()"
      ],
      "execution_count": null,
      "outputs": [
        {
          "output_type": "execute_result",
          "data": {
            "text/html": [
              "<div>\n",
              "<style scoped>\n",
              "    .dataframe tbody tr th:only-of-type {\n",
              "        vertical-align: middle;\n",
              "    }\n",
              "\n",
              "    .dataframe tbody tr th {\n",
              "        vertical-align: top;\n",
              "    }\n",
              "\n",
              "    .dataframe thead th {\n",
              "        text-align: right;\n",
              "    }\n",
              "</style>\n",
              "<table border=\"1\" class=\"dataframe\">\n",
              "  <thead>\n",
              "    <tr style=\"text-align: right;\">\n",
              "      <th></th>\n",
              "      <th>Actual Y</th>\n",
              "      <th>Predicted Y</th>\n",
              "    </tr>\n",
              "  </thead>\n",
              "  <tbody>\n",
              "    <tr>\n",
              "      <th>0</th>\n",
              "      <td>489.057552</td>\n",
              "      <td>480.495544</td>\n",
              "    </tr>\n",
              "    <tr>\n",
              "      <th>1</th>\n",
              "      <td>526.210746</td>\n",
              "      <td>525.341064</td>\n",
              "    </tr>\n",
              "    <tr>\n",
              "      <th>2</th>\n",
              "      <td>518.360395</td>\n",
              "      <td>500.736145</td>\n",
              "    </tr>\n",
              "    <tr>\n",
              "      <th>3</th>\n",
              "      <td>552.778935</td>\n",
              "      <td>540.102295</td>\n",
              "    </tr>\n",
              "    <tr>\n",
              "      <th>4</th>\n",
              "      <td>649.395917</td>\n",
              "      <td>648.891052</td>\n",
              "    </tr>\n",
              "  </tbody>\n",
              "</table>\n",
              "</div>"
            ],
            "text/plain": [
              "     Actual Y  Predicted Y\n",
              "0  489.057552   480.495544\n",
              "1  526.210746   525.341064\n",
              "2  518.360395   500.736145\n",
              "3  552.778935   540.102295\n",
              "4  649.395917   648.891052"
            ]
          },
          "metadata": {},
          "execution_count": 63
        }
      ]
    },
    {
      "cell_type": "code",
      "metadata": {
        "colab": {
          "base_uri": "https://localhost:8080/",
          "height": 279
        },
        "id": "p_v_foRi_He8",
        "outputId": "6703b718-55fc-46f6-d41e-4ff3c1425810"
      },
      "source": [
        "sns.scatterplot(x='Actual Y', y='Predicted Y',data=df1)\n",
        "plt.show()"
      ],
      "execution_count": null,
      "outputs": [
        {
          "output_type": "display_data",
          "data": {
            "image/png": "[encoded data removed]",
            "text/plain": [
              "<Figure size 432x288 with 1 Axes>"
            ]
          },
          "metadata": {
            "needs_background": "light"
          }
        }
      ]
    },
    {
      "cell_type": "code",
      "metadata": {
        "colab": {
          "base_uri": "https://localhost:8080/"
        },
        "id": "ZXOOwKfL_Vkb",
        "outputId": "ffbbb017-d5ec-45f6-a136-db49d2055049"
      },
      "source": [
        "from sklearn.metrics import mean_squared_error\n",
        "print(f'MSE :{mean_squared_error(ytest,ypred)}')\n",
        "print(f'RMSE :{np.sqrt(mean_squared_error(ytest,ypred))}')"
      ],
      "execution_count": null,
      "outputs": [
        {
          "output_type": "stream",
          "name": "stdout",
          "text": [
            "MSE :36.447363052747214\n",
            "RMSE :6.0371651503621475\n"
          ]
        }
      ]
    },
    {
      "cell_type": "code",
      "metadata": {
        "colab": {
          "base_uri": "https://localhost:8080/",
          "height": 419
        },
        "id": "ZLul_f73_tVT",
        "outputId": "ecf9b230-10fa-441b-aa7b-f7b4b206caa0"
      },
      "source": [
        "df"
      ],
      "execution_count": null,
      "outputs": [
        {
          "output_type": "execute_result",
          "data": {
            "text/html": [
              "<div>\n",
              "<style scoped>\n",
              "    .dataframe tbody tr th:only-of-type {\n",
              "        vertical-align: middle;\n",
              "    }\n",
              "\n",
              "    .dataframe tbody tr th {\n",
              "        vertical-align: top;\n",
              "    }\n",
              "\n",
              "    .dataframe thead th {\n",
              "        text-align: right;\n",
              "    }\n",
              "</style>\n",
              "<table border=\"1\" class=\"dataframe\">\n",
              "  <thead>\n",
              "    <tr style=\"text-align: right;\">\n",
              "      <th></th>\n",
              "      <th>price</th>\n",
              "      <th>feature1</th>\n",
              "      <th>feature2</th>\n",
              "    </tr>\n",
              "  </thead>\n",
              "  <tbody>\n",
              "    <tr>\n",
              "      <th>0</th>\n",
              "      <td>461.527929</td>\n",
              "      <td>999.787558</td>\n",
              "      <td>999.766096</td>\n",
              "    </tr>\n",
              "    <tr>\n",
              "      <th>1</th>\n",
              "      <td>548.130011</td>\n",
              "      <td>998.861615</td>\n",
              "      <td>1001.042403</td>\n",
              "    </tr>\n",
              "    <tr>\n",
              "      <th>2</th>\n",
              "      <td>410.297162</td>\n",
              "      <td>1000.070267</td>\n",
              "      <td>998.844015</td>\n",
              "    </tr>\n",
              "    <tr>\n",
              "      <th>3</th>\n",
              "      <td>540.382220</td>\n",
              "      <td>999.952251</td>\n",
              "      <td>1000.440940</td>\n",
              "    </tr>\n",
              "    <tr>\n",
              "      <th>4</th>\n",
              "      <td>546.024553</td>\n",
              "      <td>1000.446011</td>\n",
              "      <td>1000.338531</td>\n",
              "    </tr>\n",
              "    <tr>\n",
              "      <th>...</th>\n",
              "      <td>...</td>\n",
              "      <td>...</td>\n",
              "      <td>...</td>\n",
              "    </tr>\n",
              "    <tr>\n",
              "      <th>995</th>\n",
              "      <td>476.526078</td>\n",
              "      <td>1000.018988</td>\n",
              "      <td>999.672732</td>\n",
              "    </tr>\n",
              "    <tr>\n",
              "      <th>996</th>\n",
              "      <td>457.313186</td>\n",
              "      <td>998.855379</td>\n",
              "      <td>1000.020026</td>\n",
              "    </tr>\n",
              "    <tr>\n",
              "      <th>997</th>\n",
              "      <td>456.720992</td>\n",
              "      <td>1001.451646</td>\n",
              "      <td>998.847606</td>\n",
              "    </tr>\n",
              "    <tr>\n",
              "      <th>998</th>\n",
              "      <td>403.315576</td>\n",
              "      <td>1000.771023</td>\n",
              "      <td>998.562851</td>\n",
              "    </tr>\n",
              "    <tr>\n",
              "      <th>999</th>\n",
              "      <td>599.367093</td>\n",
              "      <td>999.232244</td>\n",
              "      <td>1001.451407</td>\n",
              "    </tr>\n",
              "  </tbody>\n",
              "</table>\n",
              "<p>1000 rows × 3 columns</p>\n",
              "</div>"
            ],
            "text/plain": [
              "          price     feature1     feature2\n",
              "0    461.527929   999.787558   999.766096\n",
              "1    548.130011   998.861615  1001.042403\n",
              "2    410.297162  1000.070267   998.844015\n",
              "3    540.382220   999.952251  1000.440940\n",
              "4    546.024553  1000.446011  1000.338531\n",
              "..          ...          ...          ...\n",
              "995  476.526078  1000.018988   999.672732\n",
              "996  457.313186   998.855379  1000.020026\n",
              "997  456.720992  1001.451646   998.847606\n",
              "998  403.315576  1000.771023   998.562851\n",
              "999  599.367093   999.232244  1001.451407\n",
              "\n",
              "[1000 rows x 3 columns]"
            ]
          },
          "metadata": {},
          "execution_count": 66
        }
      ]
    },
    {
      "cell_type": "code",
      "metadata": {
        "colab": {
          "base_uri": "https://localhost:8080/"
        },
        "id": "OUzROjuV_wHz",
        "outputId": "5f80f24f-f0d0-4c50-e68e-89b7f299ab71"
      },
      "source": [
        "newdata = [[900,950]]\n",
        "newdata = sc.transform(newdata)\n",
        "ann.predict(newdata)"
      ],
      "execution_count": null,
      "outputs": [
        {
          "output_type": "execute_result",
          "data": {
            "text/plain": [
              "array([[3366.1472]], dtype=float32)"
            ]
          },
          "metadata": {},
          "execution_count": 67
        }
      ]
    },
    {
      "cell_type": "code",
      "metadata": {
        "colab": {
          "base_uri": "https://localhost:8080/"
        },
        "id": "RFW4ttF__82S",
        "outputId": "feca03b0-6da3-4e32-b39c-cb95b2e6ec90"
      },
      "source": [
        "from tensorflow.keras.models import load_model\n",
        "ann.save('ANN_fake_reg')"
      ],
      "execution_count": null,
      "outputs": [
        {
          "output_type": "stream",
          "name": "stdout",
          "text": [
            "INFO:tensorflow:Assets written to: ANN_fake_reg/assets\n"
          ]
        }
      ]
    },
    {
      "cell_type": "code",
      "metadata": {
        "id": "GEktIpu7AHkK"
      },
      "source": [
        "fr = load_model('ANN_fake_reg')"
      ],
      "execution_count": null,
      "outputs": []
    },
    {
      "cell_type": "code",
      "metadata": {
        "id": "bMcaMEotAL0K",
        "colab": {
          "base_uri": "https://localhost:8080/"
        },
        "outputId": "13247f32-872e-460e-b37f-cc43809ce00e"
      },
      "source": [
        "fr.predict(newdata)"
      ],
      "execution_count": null,
      "outputs": [
        {
          "output_type": "execute_result",
          "data": {
            "text/plain": [
              "array([[3366.1472]], dtype=float32)"
            ]
          },
          "metadata": {},
          "execution_count": 70
        }
      ]
    },
    {
      "cell_type": "code",
      "metadata": {
        "id": "1uH7BixNAPUK"
      },
      "source": [
        ""
      ],
      "execution_count": null,
      "outputs": []
    }
  ]
}